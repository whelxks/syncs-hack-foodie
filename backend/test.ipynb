{
 "cells": [
  {
   "cell_type": "code",
   "execution_count": 1,
   "id": "924e2a2f",
   "metadata": {},
   "outputs": [],
   "source": [
    "import requests\n",
    "from datetime import datetime\n",
    "\n",
    "HOSTNAME = \"http://10.16.230.79\"\n",
    "PORT = 3008\n",
    "\n",
    "queryString = {\n",
    "  \"bucket\": \"syncshack\",\n",
    "  \"key\": \"imageFile.jpeg\"\n",
    "}\n",
    "\n",
    "response = requests.get(\n",
    "  f\"{HOSTNAME}:{PORT}/upload\",\n",
    "  params = queryString\n",
    ")\n",
    "\n",
    "upload_url = response.json()['url']\n"
   ]
  },
  {
   "cell_type": "code",
   "execution_count": 2,
   "id": "94169d9a",
   "metadata": {},
   "outputs": [
    {
     "data": {
      "text/plain": [
       "'https://syncshack.s3'"
      ]
     },
     "execution_count": 2,
     "metadata": {},
     "output_type": "execute_result"
    }
   ],
   "source": [
    "upload_url[:20]"
   ]
  },
  {
   "cell_type": "code",
   "execution_count": 3,
   "id": "99f5e2d3",
   "metadata": {},
   "outputs": [],
   "source": [
    "with open(\"data/woolies3.jpeg\", \"rb\") as f:\n",
    "  response = requests.put(upload_url, data=f)"
   ]
  },
  {
   "cell_type": "code",
   "execution_count": 4,
   "id": "74b773db",
   "metadata": {},
   "outputs": [
    {
     "data": {
      "text/plain": [
       "200"
      ]
     },
     "execution_count": 4,
     "metadata": {},
     "output_type": "execute_result"
    }
   ],
   "source": [
    "response.status_code"
   ]
  },
  {
   "cell_type": "code",
   "execution_count": 11,
   "id": "710863ba",
   "metadata": {},
   "outputs": [],
   "source": [
    "response = requests.get(\n",
    "  f\"{HOSTNAME}:{PORT}/itemModel\",\n",
    "  params = queryString\n",
    ")"
   ]
  },
  {
   "cell_type": "code",
   "execution_count": 12,
   "id": "9874d068",
   "metadata": {},
   "outputs": [
    {
     "data": {
      "text/plain": [
       "{'category': 'Food & Drinks',\n",
       " 'title': 'Grocery Haul: Pears, Bananas, Cucumber, Milk, Yogurt & Onions',\n",
       " 'condition': 'new',\n",
       " 'description': 'A fresh grocery purchase from Metro, including Packham Green Pears (0.487 kg), Cavendish Bananas (1.202 kg), a Continental Cucumber, 2L Whole Milk, 1kg Style Yoghurt, and 1kg Brown Onions. The total for these 7 items is $24.96. All items are in fresh, new condition for consumption.'}"
      ]
     },
     "execution_count": 12,
     "metadata": {},
     "output_type": "execute_result"
    }
   ],
   "source": [
    "response.json()"
   ]
  }
 ],
 "metadata": {
  "kernelspec": {
   "display_name": "synchack",
   "language": "python",
   "name": "python3"
  },
  "language_info": {
   "codemirror_mode": {
    "name": "ipython",
    "version": 3
   },
   "file_extension": ".py",
   "mimetype": "text/x-python",
   "name": "python",
   "nbconvert_exporter": "python",
   "pygments_lexer": "ipython3",
   "version": "3.12.11"
  }
 },
 "nbformat": 4,
 "nbformat_minor": 5
}
